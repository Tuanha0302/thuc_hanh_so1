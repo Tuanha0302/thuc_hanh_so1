{
 "cells": [
  {
   "cell_type": "code",
   "execution_count": 2,
   "id": "fe5b7264",
   "metadata": {},
   "outputs": [
    {
     "name": "stdout",
     "output_type": "stream",
     "text": [
      "✅ Email đã gửi thành công!\n",
      "\n",
      "📩 [EMAIL NHẬN ĐƯỢC]\n",
      "Tiêu đề: BAI THUC HANH 1 - GUI EMAIL TU DONG BANG PYTHON\n",
      "Nội dung:\n",
      " Gui email tu dong bang python\n",
      "\n"
     ]
    }
   ],
   "source": [
    "import smtplib\n",
    "import imaplib\n",
    "import email as em\n",
    "from email.mime.text import MIMEText\n",
    "\n",
    "# Bước 1: Đọc thông tin đăng nhập\n",
    "with open('email_credentials.txt', 'r', encoding='utf-8') as file:\n",
    "    account_info = file.readlines()\n",
    "    email_user = account_info[0].strip()\n",
    "    app_password = account_info[1].strip()\n",
    "\n",
    "# Bước 2: Đọc các file khác\n",
    "with open('email_content.txt', 'r', encoding='utf-8') as file:\n",
    "    email_content = file.read()\n",
    "\n",
    "with open('recipient.txt', 'r', encoding='utf-8') as file:\n",
    "    recipient_email = file.read().strip()\n",
    "\n",
    "with open('email_filter.txt', 'r', encoding='utf-8') as file:\n",
    "    filter_sender = file.read().strip()\n",
    "\n",
    "# Bước 3: Gửi email\n",
    "msg = MIMEText(email_content)\n",
    "msg['Subject'] = 'Email tự động từ Python'\n",
    "msg['From'] = email_user\n",
    "msg['To'] = recipient_email\n",
    "\n",
    "try:\n",
    "    with smtplib.SMTP('smtp.gmail.com', 587) as server:\n",
    "        server.starttls()\n",
    "        server.login(email_user, app_password)\n",
    "        server.send_message(msg)\n",
    "        print(\"✅ Email đã gửi thành công!\")\n",
    "except Exception as e:\n",
    "    print(\"Lỗi khi gửi email:\", e)\n",
    "\n",
    "# Bước 4: Nhận email\n",
    "try:\n",
    "    with imaplib.IMAP4_SSL('imap.gmail.com') as server:\n",
    "        server.login(email_user, app_password)\n",
    "        server.select('INBOX')\n",
    "        _, data = server.search(None, f'FROM \"{filter_sender}\"')\n",
    "        for num in data[0].split():\n",
    "            _, msg_data = server.fetch(num, '(RFC822)')\n",
    "            email_msg = em.message_from_bytes(msg_data[0][1])\n",
    "            print(\"\\n📩 [EMAIL NHẬN ĐƯỢC]\")\n",
    "            print(\"Tiêu đề:\", email_msg['Subject'])\n",
    "            if email_msg.is_multipart():\n",
    "                for part in email_msg.walk():\n",
    "                    if part.get_content_type() == 'text/plain':\n",
    "                        print(\"Nội dung:\\n\", part.get_payload(decode=True).decode())\n",
    "            else:\n",
    "                print(\"Nội dung:\\n\", email_msg.get_payload(decode=True).decode())\n",
    "            break\n",
    "except Exception as e:\n",
    "    print(\"Lỗi khi nhận email:\", e)\n",
    "\n"
   ]
  }
 ],
 "metadata": {
  "kernelspec": {
   "display_name": "myPy",
   "language": "python",
   "name": "python3"
  },
  "language_info": {
   "codemirror_mode": {
    "name": "ipython",
    "version": 3
   },
   "file_extension": ".py",
   "mimetype": "text/x-python",
   "name": "python",
   "nbconvert_exporter": "python",
   "pygments_lexer": "ipython3",
   "version": "3.12.9"
  }
 },
 "nbformat": 4,
 "nbformat_minor": 5
}
